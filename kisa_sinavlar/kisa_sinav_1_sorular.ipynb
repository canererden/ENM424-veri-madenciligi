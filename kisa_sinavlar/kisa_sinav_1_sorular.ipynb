{
 "cells": [
  {
   "cell_type": "markdown",
   "metadata": {},
   "source": [
    "Tüm soruların cevaplarını sorunun yer aldığı hücrede yazacağınız kodlar ile veriniz. Kullanılacak veri setinde yer alan özellikler ile ilgili bilgiyi aşağıdaki tablodan alabilirsiniz."
   ]
  },
  {
   "cell_type": "markdown",
   "metadata": {},
   "source": [
    "| Değişken   | Tanım                                 |                                                |\n",
    "|------------|---------------------------------------|------------------------------------------------|\n",
    "| Hayatta_mi | Titanik’ten sağ kurtulup kurtulmadığı | 0 = No, 1 = Yes                                |\n",
    "| sinif      | Bilet Sınıfı                          | 1 = 1st, 2 = 2nd, 3 = 3rd                      |\n",
    "| cinsiyet   |                                       |                                                |\n",
    "| Yas        |                                       |                                                |\n",
    "| sibsp      | Eş ve çocuk sayısı                    |                                                |\n",
    "| parch      | Ebeveyn ve çocuk sayısı               |                                                |\n",
    "| Bilet      | Bilet numarası                        |                                                |\n",
    "| Ucret      | Bilet ücreti                          |                                                |\n",
    "| Kabin      | Kabin numarası                        |                                                |\n",
    "| Giris_yeri | Giriş yeri                            | C = Cherbourg, Q = Queenstown, S = Southampton |"
   ]
  },
  {
   "cell_type": "code",
   "execution_count": null,
   "metadata": {},
   "outputs": [],
   "source": [
    "import pandas as pd\n",
    "import numpy as np\n",
    "import matplotlib.pyplot as plt"
   ]
  },
  {
   "cell_type": "code",
   "execution_count": null,
   "metadata": {},
   "outputs": [],
   "source": [
    "# 1- Titanic verilerini index sütunu verilerdeki ilk sütun olacak şekilde data değişkenine kaydedin.(5 puan)\n"
   ]
  },
  {
   "cell_type": "code",
   "execution_count": null,
   "metadata": {},
   "outputs": [],
   "source": [
    "# 2- Verilerdeki 18-23. müşterilerin sırasıyla isim, yaş, hayatta_mi, sınıf ve ücret bilgisini getiriniz. (5 puan)\n"
   ]
  },
  {
   "cell_type": "code",
   "execution_count": null,
   "metadata": {},
   "outputs": [],
   "source": [
    "# 3- Titanic gemisine binenlerden yüzde kaçı hayatta kalmıştır? (10 puan)\n"
   ]
  },
  {
   "cell_type": "code",
   "execution_count": null,
   "metadata": {},
   "outputs": [],
   "source": [
    "# 4- Hangi sınıf müşteriden kaç kişi hayatta kalmıştır? (10 puan)\n"
   ]
  },
  {
   "cell_type": "code",
   "execution_count": null,
   "metadata": {},
   "outputs": [],
   "source": [
    "# 5- hangi özellikten kaç tane eksik değer olduğunu yazdırınız.(5 puan)\n"
   ]
  },
  {
   "cell_type": "code",
   "execution_count": null,
   "metadata": {},
   "outputs": [],
   "source": [
    "# 6- Yaş verisi eksik olan müşterilerin isimlerini yazdırınız.(5 puan)\n"
   ]
  },
  {
   "cell_type": "code",
   "execution_count": null,
   "metadata": {},
   "outputs": [],
   "source": [
    "# 7- yaş verilerinden eksik olanları ortalama yaş değeri ile doldurunuz.(5 puan)\n"
   ]
  },
  {
   "cell_type": "code",
   "execution_count": null,
   "metadata": {},
   "outputs": [],
   "source": [
    "# 8- yuk özelliği boş olan verileri bir önceki müşterinin yük verisi ile doldurunuz.(5 puan)\n"
   ]
  },
  {
   "cell_type": "code",
   "execution_count": null,
   "metadata": {},
   "outputs": [],
   "source": [
    "# 9- sinif kategorilerine göre hayatta kalan toplam kadın ve erkek yolcu sayılarını gösteriniz.(10 puan)\n"
   ]
  },
  {
   "cell_type": "code",
   "execution_count": null,
   "metadata": {},
   "outputs": [],
   "source": [
    "# 10- hayatta kalan erkek ve kadın sayısını aynı grafik üzerinde gösteriniz.(10 puan)\n"
   ]
  },
  {
   "cell_type": "code",
   "execution_count": null,
   "metadata": {},
   "outputs": [],
   "source": [
    "# 11- sinif kategorilerinde kaç yolcu olduğunu grafik üzerinde gösteriniz.(10 puan)\n"
   ]
  },
  {
   "cell_type": "code",
   "execution_count": null,
   "metadata": {},
   "outputs": [],
   "source": [
    "# 12- sinif kategorilerindeki hayatta kalan ve kalmayan sayılarını tek bir grafikte gösteriniz.(10 puan)\n"
   ]
  },
  {
   "cell_type": "code",
   "execution_count": null,
   "metadata": {},
   "outputs": [],
   "source": [
    "# 13- hayatta kalan ve kalmayan yolcuların yaş dağılımını gösteren grafiği gösteriniz.(10 puan)\n"
   ]
  },
  {
   "cell_type": "code",
   "execution_count": null,
   "metadata": {},
   "outputs": [],
   "source": []
  }
 ],
 "metadata": {
  "kernelspec": {
   "display_name": "Python 3.7.6 64-bit ('base': conda)",
   "language": "python",
   "name": "python37664bitbaseconda6d6ca68311e247d3a1f06ea5c841201a"
  },
  "language_info": {
   "codemirror_mode": {
    "name": "ipython",
    "version": 3
   },
   "file_extension": ".py",
   "mimetype": "text/x-python",
   "name": "python",
   "nbconvert_exporter": "python",
   "pygments_lexer": "ipython3",
   "version": "3.7.6"
  },
  "toc": {
   "base_numbering": 1,
   "nav_menu": {},
   "number_sections": true,
   "sideBar": true,
   "skip_h1_title": false,
   "title_cell": "Table of Contents",
   "title_sidebar": "Contents",
   "toc_cell": false,
   "toc_position": {},
   "toc_section_display": true,
   "toc_window_display": false
  },
  "varInspector": {
   "cols": {
    "lenName": 16,
    "lenType": 16,
    "lenVar": 40
   },
   "kernels_config": {
    "python": {
     "delete_cmd_postfix": "",
     "delete_cmd_prefix": "del ",
     "library": "var_list.py",
     "varRefreshCmd": "print(var_dic_list())"
    },
    "r": {
     "delete_cmd_postfix": ") ",
     "delete_cmd_prefix": "rm(",
     "library": "var_list.r",
     "varRefreshCmd": "cat(var_dic_list()) "
    }
   },
   "types_to_exclude": [
    "module",
    "function",
    "builtin_function_or_method",
    "instance",
    "_Feature"
   ],
   "window_display": false
  }
 },
 "nbformat": 4,
 "nbformat_minor": 4
}
