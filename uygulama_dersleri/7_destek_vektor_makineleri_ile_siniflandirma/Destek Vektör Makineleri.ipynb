{
 "cells": [
  {
   "cell_type": "markdown",
   "metadata": {},
   "source": [
    "Bu örnek [adresinden](https://scikit-learn.org/stable/auto_examples/classification/plot_digits_classification.html#sphx-glr-auto-examples-classification-plot-digits-classification-py) alınmıştır."
   ]
  },
  {
   "cell_type": "code",
   "execution_count": 2,
   "metadata": {},
   "outputs": [],
   "source": [
    "import numpy as np\n",
    "import pandas as pd\n",
    "import matplotlib.pyplot as plt"
   ]
  },
  {
   "cell_type": "code",
   "execution_count": 4,
   "metadata": {},
   "outputs": [],
   "source": [
    "from sklearn import datasets\n",
    "from sklearn import svm # Support vector machine kütüphanesi"
   ]
  },
  {
   "cell_type": "code",
   "execution_count": 5,
   "metadata": {},
   "outputs": [],
   "source": [
    "sayilar = datasets.load_digits()"
   ]
  },
  {
   "cell_type": "code",
   "execution_count": 16,
   "metadata": {},
   "outputs": [
    {
     "data": {
      "text/plain": [
       "(1797, 64)"
      ]
     },
     "execution_count": 16,
     "metadata": {},
     "output_type": "execute_result"
    }
   ],
   "source": [
    "sayilar.data.shape"
   ]
  },
  {
   "cell_type": "code",
   "execution_count": 15,
   "metadata": {},
   "outputs": [
    {
     "data": {
      "text/plain": [
       "array([[ 0.,  0.,  5., 13.,  9.,  1.,  0.,  0.],\n",
       "       [ 0.,  0., 13., 15., 10., 15.,  5.,  0.],\n",
       "       [ 0.,  3., 15.,  2.,  0., 11.,  8.,  0.],\n",
       "       [ 0.,  4., 12.,  0.,  0.,  8.,  8.,  0.],\n",
       "       [ 0.,  5.,  8.,  0.,  0.,  9.,  8.,  0.],\n",
       "       [ 0.,  4., 11.,  0.,  1., 12.,  7.,  0.],\n",
       "       [ 0.,  2., 14.,  5., 10., 12.,  0.,  0.],\n",
       "       [ 0.,  0.,  6., 13., 10.,  0.,  0.,  0.]])"
      ]
     },
     "execution_count": 15,
     "metadata": {},
     "output_type": "execute_result"
    }
   ],
   "source": [
    "sayilar.images[0] # birinci grafiğin pikselleri"
   ]
  },
  {
   "cell_type": "code",
   "execution_count": 17,
   "metadata": {},
   "outputs": [
    {
     "data": {
      "text/plain": [
       "array([0, 1, 2, ..., 8, 9, 8])"
      ]
     },
     "execution_count": 17,
     "metadata": {},
     "output_type": "execute_result"
    }
   ],
   "source": [
    "sayilar.target"
   ]
  },
  {
   "cell_type": "code",
   "execution_count": 18,
   "metadata": {},
   "outputs": [
    {
     "data": {
      "text/plain": [
       "array([0, 1, 2, 3, 4, 5, 6, 7, 8, 9])"
      ]
     },
     "execution_count": 18,
     "metadata": {},
     "output_type": "execute_result"
    }
   ],
   "source": [
    "sayilar.target_names"
   ]
  },
  {
   "cell_type": "code",
   "execution_count": 19,
   "metadata": {},
   "outputs": [],
   "source": [
    "clf = svm.SVC(gamma=0.001, C=100)"
   ]
  },
  {
   "cell_type": "code",
   "execution_count": 20,
   "metadata": {},
   "outputs": [],
   "source": [
    "X, y = sayilar.data[:-1], sayilar.target[:-1]"
   ]
  },
  {
   "cell_type": "code",
   "execution_count": 21,
   "metadata": {},
   "outputs": [],
   "source": [
    "from sklearn.model_selection import train_test_split"
   ]
  },
  {
   "cell_type": "code",
   "execution_count": 22,
   "metadata": {},
   "outputs": [],
   "source": [
    "X_train, X_test, y_train, y_test = train_test_split(X, y, test_size=0.33, random_state=42)"
   ]
  },
  {
   "cell_type": "code",
   "execution_count": 23,
   "metadata": {},
   "outputs": [
    {
     "data": {
      "text/plain": [
       "SVC(C=100, break_ties=False, cache_size=200, class_weight=None, coef0=0.0,\n",
       "    decision_function_shape='ovr', degree=3, gamma=0.001, kernel='rbf',\n",
       "    max_iter=-1, probability=False, random_state=None, shrinking=True,\n",
       "    tol=0.001, verbose=False)"
      ]
     },
     "execution_count": 23,
     "metadata": {},
     "output_type": "execute_result"
    }
   ],
   "source": [
    "clf.fit(X_train, y_train)"
   ]
  },
  {
   "cell_type": "code",
   "execution_count": 24,
   "metadata": {},
   "outputs": [],
   "source": [
    "y_predicted = clf.predict(X_test)"
   ]
  },
  {
   "cell_type": "code",
   "execution_count": 25,
   "metadata": {},
   "outputs": [
    {
     "data": {
      "text/plain": [
       "array([0, 9, 5, 7, 7, 1, 5, 1, 9, 7, 1, 9, 4, 9, 8, 0, 3, 7, 7, 5, 4, 6,\n",
       "       9, 7, 8, 6, 3, 5, 2, 9, 9, 9, 3, 4, 0, 6, 0, 2, 7, 6, 4, 9, 1, 9,\n",
       "       4, 1, 6, 0, 9, 1, 5, 2, 9, 5, 6, 0, 9, 8, 9, 1, 7, 8, 1, 2, 4, 5,\n",
       "       9, 5, 9, 2, 9, 3, 1, 4, 3, 0, 4, 5, 5, 0, 9, 0, 5, 3, 8, 0, 7, 4,\n",
       "       4, 7, 9, 2, 8, 3, 0, 2, 9, 0, 4, 4, 4, 4, 1, 2, 1, 5, 5, 9, 4, 2,\n",
       "       7, 7, 4, 6, 1, 7, 2, 5, 8, 7, 2, 9, 8, 3, 6, 2, 2, 7, 5, 8, 5, 7,\n",
       "       4, 9, 9, 6, 6, 4, 7, 8, 0, 9, 4, 8, 9, 9, 5, 0, 0, 7, 5, 7, 6, 0,\n",
       "       6, 4, 3, 9, 2, 7, 2, 2, 8, 0, 8, 4, 1, 1, 5, 9, 9, 8, 7, 2, 9, 3,\n",
       "       7, 3, 7, 8, 3, 9, 8, 0, 4, 2, 5, 5, 6, 8, 6, 0, 1, 2, 2, 2, 1, 6,\n",
       "       2, 8, 5, 6, 8, 7, 1, 9, 8, 8, 9, 5, 4, 3, 9, 2, 8, 8, 1, 0, 7, 5,\n",
       "       2, 7, 4, 6, 8, 7, 6, 5, 6, 2, 3, 6, 7, 0, 4, 1, 4, 1, 5, 4, 8, 5,\n",
       "       0, 1, 5, 2, 8, 2, 3, 8, 4, 0, 1, 4, 8, 4, 4, 9, 7, 3, 6, 0, 9, 3,\n",
       "       3, 5, 9, 0, 4, 9, 1, 7, 6, 5, 0, 4, 1, 1, 7, 7, 6, 5, 0, 7, 3, 5,\n",
       "       6, 0, 6, 4, 5, 3, 3, 2, 8, 3, 8, 3, 4, 4, 2, 5, 4, 3, 3, 4, 5, 0,\n",
       "       4, 9, 0, 5, 1, 5, 3, 0, 7, 8, 6, 5, 2, 6, 2, 8, 4, 6, 6, 4, 7, 3,\n",
       "       7, 5, 7, 4, 5, 9, 7, 0, 8, 2, 0, 4, 5, 0, 7, 5, 8, 4, 5, 2, 7, 6,\n",
       "       7, 8, 4, 3, 2, 7, 3, 4, 6, 1, 4, 3, 2, 5, 9, 0, 4, 1, 7, 4, 4, 5,\n",
       "       9, 4, 6, 3, 8, 8, 4, 2, 3, 8, 9, 7, 4, 5, 9, 6, 3, 2, 1, 6, 6, 3,\n",
       "       0, 2, 1, 9, 6, 4, 7, 4, 8, 7, 4, 0, 5, 1, 6, 5, 5, 3, 6, 3, 7, 5,\n",
       "       7, 9, 7, 5, 9, 7, 7, 2, 0, 0, 5, 6, 5, 3, 1, 5, 3, 1, 6, 9, 4, 5,\n",
       "       0, 7, 2, 8, 3, 3, 6, 7, 6, 5, 5, 8, 0, 8, 3, 1, 7, 0, 8, 2, 3, 3,\n",
       "       8, 1, 3, 2, 9, 7, 0, 1, 7, 6, 3, 0, 1, 2, 0, 8, 6, 1, 3, 0, 5, 7,\n",
       "       9, 3, 9, 3, 3, 2, 1, 1, 6, 5, 3, 1, 1, 3, 9, 1, 9, 6, 3, 9, 2, 0,\n",
       "       1, 2, 3, 8, 5, 6, 3, 1, 9, 1, 7, 5, 4, 7, 9, 0, 1, 8, 6, 0, 3, 1,\n",
       "       9, 0, 3, 6, 5, 3, 4, 4, 7, 9, 7, 6, 8, 7, 1, 4, 8, 2, 6, 0, 4, 9,\n",
       "       5, 9, 1, 6, 6, 4, 9, 9, 8, 4, 7, 9, 0, 4, 9, 0, 5, 0, 7, 6, 6, 8,\n",
       "       1, 3, 3, 7, 6, 6, 5, 2, 7, 1, 2, 2, 7, 8, 7, 5, 0, 8, 9, 3, 9])"
      ]
     },
     "execution_count": 25,
     "metadata": {},
     "output_type": "execute_result"
    }
   ],
   "source": [
    "y_predicted"
   ]
  },
  {
   "cell_type": "code",
   "execution_count": 26,
   "metadata": {},
   "outputs": [
    {
     "data": {
      "text/plain": [
       "array([0, 9, 5, 7, 7, 1, 5, 1, 9, 7, 1, 9, 4, 9, 8, 0, 3, 7, 7, 5, 4, 6,\n",
       "       9, 7, 9, 6, 3, 5, 2, 5, 9, 9, 3, 4, 0, 6, 0, 2, 7, 6, 4, 9, 1, 9,\n",
       "       4, 1, 6, 0, 9, 1, 5, 2, 9, 5, 6, 0, 9, 8, 9, 1, 7, 8, 1, 2, 4, 5,\n",
       "       9, 5, 9, 2, 9, 3, 1, 4, 3, 0, 4, 5, 5, 0, 9, 0, 5, 3, 8, 0, 7, 4,\n",
       "       4, 7, 9, 2, 8, 3, 0, 2, 9, 0, 4, 4, 4, 4, 1, 2, 1, 3, 5, 9, 4, 2,\n",
       "       7, 7, 4, 6, 1, 7, 2, 5, 8, 7, 2, 9, 8, 3, 6, 2, 2, 7, 5, 8, 5, 7,\n",
       "       4, 7, 9, 6, 6, 4, 7, 8, 0, 9, 4, 8, 9, 9, 5, 0, 0, 7, 5, 7, 6, 0,\n",
       "       6, 4, 3, 9, 2, 9, 2, 2, 8, 0, 8, 4, 1, 1, 5, 9, 9, 8, 7, 2, 9, 3,\n",
       "       7, 3, 7, 8, 3, 9, 8, 0, 4, 2, 5, 5, 6, 8, 6, 0, 1, 2, 2, 2, 1, 6,\n",
       "       2, 8, 5, 6, 8, 7, 1, 9, 8, 8, 9, 5, 4, 3, 9, 2, 8, 8, 1, 0, 7, 5,\n",
       "       2, 7, 4, 6, 8, 7, 6, 5, 6, 2, 3, 6, 7, 0, 4, 1, 4, 1, 5, 4, 8, 5,\n",
       "       0, 1, 6, 2, 8, 2, 3, 8, 4, 0, 1, 4, 8, 4, 4, 9, 7, 3, 6, 0, 9, 3,\n",
       "       3, 5, 9, 0, 4, 9, 1, 7, 6, 5, 0, 4, 1, 1, 7, 7, 6, 5, 0, 7, 3, 5,\n",
       "       6, 0, 6, 4, 5, 3, 3, 2, 3, 3, 8, 3, 4, 4, 2, 5, 4, 3, 3, 4, 5, 0,\n",
       "       4, 9, 0, 5, 1, 5, 3, 0, 7, 8, 6, 5, 2, 6, 2, 8, 4, 6, 6, 4, 7, 3,\n",
       "       7, 5, 7, 4, 5, 9, 7, 0, 8, 2, 0, 4, 5, 0, 7, 5, 8, 4, 5, 2, 7, 6,\n",
       "       7, 8, 4, 3, 2, 7, 3, 4, 6, 1, 4, 3, 2, 5, 9, 0, 4, 1, 7, 4, 4, 5,\n",
       "       9, 4, 6, 3, 8, 8, 4, 2, 3, 8, 9, 7, 4, 5, 9, 6, 3, 2, 1, 6, 6, 3,\n",
       "       0, 2, 1, 9, 6, 4, 7, 4, 8, 7, 4, 0, 5, 1, 6, 5, 5, 3, 6, 3, 7, 5,\n",
       "       7, 9, 7, 5, 9, 7, 7, 2, 0, 0, 5, 6, 5, 3, 1, 5, 3, 1, 6, 9, 4, 5,\n",
       "       0, 7, 2, 8, 3, 3, 6, 7, 6, 5, 5, 8, 0, 8, 3, 1, 7, 0, 8, 2, 3, 3,\n",
       "       8, 1, 3, 2, 9, 7, 0, 1, 7, 6, 3, 0, 1, 2, 0, 8, 6, 1, 3, 0, 5, 7,\n",
       "       9, 3, 9, 3, 3, 2, 1, 1, 6, 5, 3, 1, 1, 3, 9, 1, 9, 6, 3, 9, 2, 0,\n",
       "       1, 2, 3, 8, 5, 6, 3, 1, 9, 1, 7, 5, 4, 7, 9, 0, 1, 8, 6, 0, 3, 1,\n",
       "       9, 0, 3, 6, 5, 3, 4, 4, 7, 9, 7, 6, 8, 7, 1, 4, 8, 2, 6, 0, 4, 9,\n",
       "       5, 9, 1, 6, 6, 4, 9, 9, 8, 4, 7, 9, 0, 4, 9, 0, 5, 0, 7, 6, 6, 8,\n",
       "       1, 3, 3, 7, 6, 6, 5, 2, 7, 1, 2, 2, 7, 8, 7, 5, 0, 8, 9, 3, 9])"
      ]
     },
     "execution_count": 26,
     "metadata": {},
     "output_type": "execute_result"
    }
   ],
   "source": [
    "y_test"
   ]
  },
  {
   "cell_type": "code",
   "execution_count": 27,
   "metadata": {},
   "outputs": [],
   "source": [
    "from sklearn.metrics import confusion_matrix"
   ]
  },
  {
   "cell_type": "code",
   "execution_count": 28,
   "metadata": {},
   "outputs": [
    {
     "data": {
      "text/plain": [
       "array([[55,  0,  0,  0,  0,  0,  0,  0,  0,  0],\n",
       "       [ 0, 52,  0,  0,  0,  0,  0,  0,  0,  0],\n",
       "       [ 0,  0, 50,  0,  0,  0,  0,  0,  0,  0],\n",
       "       [ 0,  0,  0, 60,  0,  1,  0,  0,  1,  0],\n",
       "       [ 0,  0,  0,  0, 65,  0,  0,  0,  0,  0],\n",
       "       [ 0,  0,  0,  0,  0, 64,  0,  0,  0,  1],\n",
       "       [ 0,  0,  0,  0,  0,  1, 57,  0,  0,  0],\n",
       "       [ 0,  0,  0,  0,  0,  0,  0, 67,  0,  1],\n",
       "       [ 0,  0,  0,  0,  0,  0,  0,  0, 51,  0],\n",
       "       [ 0,  0,  0,  0,  0,  0,  0,  1,  1, 65]], dtype=int64)"
      ]
     },
     "execution_count": 28,
     "metadata": {},
     "output_type": "execute_result"
    }
   ],
   "source": [
    "confusion_matrix(y_test, y_predicted)"
   ]
  },
  {
   "cell_type": "code",
   "execution_count": 29,
   "metadata": {},
   "outputs": [],
   "source": [
    "from sklearn.metrics import accuracy_score"
   ]
  },
  {
   "cell_type": "code",
   "execution_count": 30,
   "metadata": {},
   "outputs": [
    {
     "data": {
      "text/plain": [
       "0.9881956155143339"
      ]
     },
     "execution_count": 30,
     "metadata": {},
     "output_type": "execute_result"
    }
   ],
   "source": [
    "accuracy_score(y_test, y_predicted)"
   ]
  },
  {
   "cell_type": "code",
   "execution_count": 40,
   "metadata": {},
   "outputs": [
    {
     "data": {
      "text/plain": [
       "<matplotlib.image.AxesImage at 0x144d1dbc348>"
      ]
     },
     "execution_count": 40,
     "metadata": {},
     "output_type": "execute_result"
    },
    {
     "data": {
      "image/png": "[encoded data removed]",
      "text/plain": [
       "<Figure size 432x288 with 1 Axes>"
      ]
     },
     "metadata": {
      "needs_background": "light"
     },
     "output_type": "display_data"
    }
   ],
   "source": [
    "plt.imshow(sayilar.images[-1])"
   ]
  },
  {
   "cell_type": "code",
   "execution_count": 39,
   "metadata": {},
   "outputs": [
    {
     "data": {
      "text/plain": [
       "<matplotlib.image.AxesImage at 0x144d20eb888>"
      ]
     },
     "execution_count": 39,
     "metadata": {},
     "output_type": "execute_result"
    },
    {
     "data": {
      "image/png": "[encoded data removed]",
      "text/plain": [
       "<Figure size 432x288 with 1 Axes>"
      ]
     },
     "metadata": {
      "needs_background": "light"
     },
     "output_type": "display_data"
    }
   ],
   "source": [
    "plt.imshow(sayilar.images[-1],cmap=plt.cm.gray_r) # siyah beyaz gösterim için"
   ]
  },
  {
   "cell_type": "code",
   "execution_count": 38,
   "metadata": {},
   "outputs": [
    {
     "data": {
      "text/plain": [
       "array([8])"
      ]
     },
     "execution_count": 38,
     "metadata": {},
     "output_type": "execute_result"
    }
   ],
   "source": [
    "# biz ne tahmin etmişiz\n",
    "clf.predict(sayilar.data[-1:])"
   ]
  },
  {
   "cell_type": "code",
   "execution_count": 41,
   "metadata": {},
   "outputs": [],
   "source": [
    "# iris dataseti için\n",
    "from sklearn.datasets import load_iris"
   ]
  },
  {
   "cell_type": "code",
   "execution_count": 42,
   "metadata": {},
   "outputs": [],
   "source": [
    "X, y = load_iris(return_X_y=True)"
   ]
  },
  {
   "cell_type": "code",
   "execution_count": 43,
   "metadata": {},
   "outputs": [
    {
     "data": {
      "text/plain": [
       "SVC(C=1.0, break_ties=False, cache_size=200, class_weight=None, coef0=0.0,\n",
       "    decision_function_shape='ovr', degree=3, gamma='scale', kernel='linear',\n",
       "    max_iter=-1, probability=False, random_state=None, shrinking=True,\n",
       "    tol=0.001, verbose=False)"
      ]
     },
     "execution_count": 43,
     "metadata": {},
     "output_type": "execute_result"
    }
   ],
   "source": [
    "clf2 = svm.SVC()\n",
    "clf2.set_params(kernel='linear').fit(X, y)"
   ]
  },
  {
   "cell_type": "code",
   "execution_count": 45,
   "metadata": {},
   "outputs": [
    {
     "data": {
      "text/plain": [
       "array([0, 0, 0, 0, 0])"
      ]
     },
     "execution_count": 45,
     "metadata": {},
     "output_type": "execute_result"
    }
   ],
   "source": [
    "clf2.predict(X[:5])"
   ]
  },
  {
   "cell_type": "code",
   "execution_count": 46,
   "metadata": {},
   "outputs": [
    {
     "data": {
      "text/plain": [
       "array([[5.1, 3.5, 1.4, 0.2],\n",
       "       [4.9, 3. , 1.4, 0.2],\n",
       "       [4.7, 3.2, 1.3, 0.2],\n",
       "       [4.6, 3.1, 1.5, 0.2],\n",
       "       [5. , 3.6, 1.4, 0.2]])"
      ]
     },
     "execution_count": 46,
     "metadata": {},
     "output_type": "execute_result"
    }
   ],
   "source": [
    "X[:5]"
   ]
  },
  {
   "cell_type": "code",
   "execution_count": 47,
   "metadata": {},
   "outputs": [
    {
     "data": {
      "text/plain": [
       "array([0, 0, 0, 0, 0])"
      ]
     },
     "execution_count": 47,
     "metadata": {},
     "output_type": "execute_result"
    }
   ],
   "source": [
    "y[:5]"
   ]
  },
  {
   "cell_type": "markdown",
   "metadata": {},
   "source": [
    "Öneriler  \n",
    "1- https://www.youtube.com/watch?v=g8D5YL6cOSE  (Uygulama)  \n",
    "2- https://github.com/akshayr89/MNSIST_Handwritten_Digit_Recognition-SVM  Uygulama  \n",
    "3- https://github.com/pramodini18/Digit-recognition-using-SVM  Uygulama  \n",
    "4- https://scikit-learn.org/stable/tutorial/basic/tutorial.html#introduction  Uygulama\n",
    "5- https://www.youtube.com/watch?v=_PwhiWxHK8o  (Teorik kısım)"
   ]
  },
  {
   "cell_type": "code",
   "execution_count": null,
   "metadata": {},
   "outputs": [],
   "source": []
  }
 ],
 "metadata": {
  "kernelspec": {
   "display_name": "Python 3.7.4 64-bit ('base': conda)",
   "language": "python",
   "name": "python37464bitbaseconda7ed53fe53b85464eb341fdc51fc0e993"
  },
  "language_info": {
   "codemirror_mode": {
    "name": "ipython",
    "version": 3
   },
   "file_extension": ".py",
   "mimetype": "text/x-python",
   "name": "python",
   "nbconvert_exporter": "python",
   "pygments_lexer": "ipython3",
   "version": "3.7.6"
  },
  "toc": {
   "base_numbering": 1,
   "nav_menu": {},
   "number_sections": true,
   "sideBar": true,
   "skip_h1_title": false,
   "title_cell": "Table of Contents",
   "title_sidebar": "Contents",
   "toc_cell": false,
   "toc_position": {},
   "toc_section_display": true,
   "toc_window_display": false
  },
  "varInspector": {
   "cols": {
    "lenName": 16,
    "lenType": 16,
    "lenVar": 40
   },
   "kernels_config": {
    "python": {
     "delete_cmd_postfix": "",
     "delete_cmd_prefix": "del ",
     "library": "var_list.py",
     "varRefreshCmd": "print(var_dic_list())"
    },
    "r": {
     "delete_cmd_postfix": ") ",
     "delete_cmd_prefix": "rm(",
     "library": "var_list.r",
     "varRefreshCmd": "cat(var_dic_list()) "
    }
   },
   "types_to_exclude": [
    "module",
    "function",
    "builtin_function_or_method",
    "instance",
    "_Feature"
   ],
   "window_display": false
  }
 },
 "nbformat": 4,
 "nbformat_minor": 4
}
