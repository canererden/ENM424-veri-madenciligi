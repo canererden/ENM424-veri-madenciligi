{
 "cells": [
  {
   "cell_type": "markdown",
   "metadata": {},
   "source": [
    "# Numpy(Numerical Python) Eğitimi\n",
    "Burada nümerik python için geliştirilen Numpy kütüphanesini göreceğiz. Birlikte kodlar üzerinde çalışmamızı gerçekleştireceğiz.\n",
    "\n",
    "Numpy nümerik hesaplamalar yapmak için kullanılan pakettir. Python'daki listelerin yetersiz kaldığı durumlarda kullanılır. Özellikle çok boyutlu dizilerde işlem yapmak için kolaylıklar sağlamaktadır. Numpy aynı zamanda veri bilimi, veri madenciliği ya da makine öğrenmesinde kullanılan birçok kütüphanenin de temellerinde yer alır.  "
   ]
  },
  {
   "cell_type": "markdown",
   "metadata": {},
   "source": [
    "## Numpy'ın çağrılması\n",
    "Genellikle np kısaltması ile kullanılır. Bu nedenle `import numpy as np` komutu ile çağrılır."
   ]
  },
  {
   "cell_type": "code",
   "execution_count": 1,
   "metadata": {},
   "outputs": [],
   "source": [
    "import numpy as np"
   ]
  },
  {
   "cell_type": "markdown",
   "metadata": {},
   "source": [
    "Numpy'da diziler array olarak çağrılır. Tek boyutlu basit bir dizi tanımlamak için;"
   ]
  },
  {
   "cell_type": "code",
   "execution_count": null,
   "metadata": {},
   "outputs": [],
   "source": [
    "dizi = np.array([1,2,3,4,5])"
   ]
  },
  {
   "cell_type": "markdown",
   "metadata": {},
   "source": [
    "ic_ice dizi yazmak için;"
   ]
  },
  {
   "cell_type": "code",
   "execution_count": null,
   "metadata": {},
   "outputs": [],
   "source": [
    "ic_ice = np.array([1,2,[3,4,5, [6,7,8]]])"
   ]
  },
  {
   "cell_type": "code",
   "execution_count": null,
   "metadata": {},
   "outputs": [],
   "source": [
    "ic_ice[2][3][1]"
   ]
  },
  {
   "cell_type": "code",
   "execution_count": null,
   "metadata": {},
   "outputs": [],
   "source": [
    "x1 = np.random.randint(10, size=6) # Tek boyutlu dizi\n",
    "x2 = np.random.randint(10, size=(3, 4)) # iki boyutlu dizi\n",
    "x3 = np.random.randint(10, size=(3, 4, 5)) # üç boyutlu dizi"
   ]
  },
  {
   "cell_type": "code",
   "execution_count": null,
   "metadata": {},
   "outputs": [],
   "source": [
    "print(\"x3 boyut: \", x3.ndim)\n",
    "print(\"x3 shape:\", x3.shape)\n",
    "print(\"x3 size: \", x3.size)\n",
    "print(\"dtype:\", x3.dtype)"
   ]
  },
  {
   "cell_type": "code",
   "execution_count": null,
   "metadata": {},
   "outputs": [],
   "source": [
    "x3[1][2][1]"
   ]
  },
  {
   "cell_type": "markdown",
   "metadata": {},
   "source": [
    "Dizi oluşturmak için"
   ]
  },
  {
   "cell_type": "code",
   "execution_count": null,
   "metadata": {},
   "outputs": [],
   "source": [
    "np.zeros(10, dtype=int)"
   ]
  },
  {
   "cell_type": "code",
   "execution_count": null,
   "metadata": {},
   "outputs": [],
   "source": [
    "np.ones((3, 5), dtype=float)"
   ]
  },
  {
   "cell_type": "code",
   "execution_count": null,
   "metadata": {},
   "outputs": [],
   "source": [
    "np.full((3, 5), 3.14)"
   ]
  },
  {
   "cell_type": "code",
   "execution_count": null,
   "metadata": {},
   "outputs": [],
   "source": [
    "# 0 ile 1 arasında 5 adet eşit aralıklı dizi oluştur.\n",
    "np.linspace(0, 1, 5)"
   ]
  },
  {
   "cell_type": "code",
   "execution_count": null,
   "metadata": {},
   "outputs": [],
   "source": [
    "# 3e3 rastgele sayılardan oluşan bir dizi oluştur.\n",
    "np.random.random((3, 3))"
   ]
  },
  {
   "cell_type": "code",
   "execution_count": null,
   "metadata": {},
   "outputs": [],
   "source": [
    "# normal dağılıma uyan ortalaması 0 standart sapması 1 olan 3e3 bir dizi oluştur.\n",
    "np.random.normal(0, 1, (3, 3))"
   ]
  },
  {
   "cell_type": "code",
   "execution_count": null,
   "metadata": {},
   "outputs": [],
   "source": [
    "# 0 ile 10 arasında rastgele tam sayılardan oluşan 3e3 bir dizi\n",
    "np.random.randint(0, 10, (3, 3))"
   ]
  },
  {
   "cell_type": "code",
   "execution_count": null,
   "metadata": {},
   "outputs": [],
   "source": [
    "# Birim matris\n",
    "np.eye(3)"
   ]
  },
  {
   "cell_type": "code",
   "execution_count": null,
   "metadata": {},
   "outputs": [],
   "source": [
    "np.random.seed(0) # her zaman aynı rassal değerleri almak için sabitlenir."
   ]
  },
  {
   "cell_type": "markdown",
   "metadata": {},
   "source": [
    "## Numpy Dizisindeki Verilere Ulaşmak"
   ]
  },
  {
   "cell_type": "code",
   "execution_count": null,
   "metadata": {},
   "outputs": [],
   "source": [
    "print(x1[0]) # tek boyutlu\n",
    "print(x1[-1]) # sondan saymak istersek\n",
    "print(x1[-2]) # sondan ikinci"
   ]
  },
  {
   "cell_type": "code",
   "execution_count": null,
   "metadata": {},
   "outputs": [],
   "source": [
    "x2 # iki boyutlu dizi"
   ]
  },
  {
   "cell_type": "code",
   "execution_count": null,
   "metadata": {},
   "outputs": [],
   "source": [
    "print(x2[0,0]) # ilk satır, ilk sütun\n",
    "print(x2[2, 0]) # ikinci satır, ilk sütun"
   ]
  },
  {
   "cell_type": "code",
   "execution_count": null,
   "metadata": {},
   "outputs": [],
   "source": [
    "# x[start:stop:step] ile dizi içerisinde dilimleme yapılabilir."
   ]
  },
  {
   "cell_type": "code",
   "execution_count": null,
   "metadata": {},
   "outputs": [],
   "source": [
    "x = np.arange(10) # 0-10 arasındaki sayılar"
   ]
  },
  {
   "cell_type": "code",
   "execution_count": null,
   "metadata": {},
   "outputs": [],
   "source": [
    "x"
   ]
  },
  {
   "cell_type": "code",
   "execution_count": null,
   "metadata": {},
   "outputs": [],
   "source": [
    "print(x[:5]) # ilk 5 eleman\n",
    "print(x[5:]) # 5 elemandan sonrası\n",
    "print(x[4:7]) # 4. ve 7 elemanlar arası     \n",
    "print(x[::2]) # tüm elemanlar iki iki artır\n",
    "print(x[::-1]) # elemanları ters çevir\n",
    "print(x[5::-2]) # 5 ten sonrasını bir sonraki olacak şekilde ters çevir"
   ]
  },
  {
   "cell_type": "code",
   "execution_count": null,
   "metadata": {},
   "outputs": [],
   "source": [
    "# çok boyutlu dizilerde\n",
    "x2"
   ]
  },
  {
   "cell_type": "code",
   "execution_count": null,
   "metadata": {},
   "outputs": [],
   "source": [
    "x2[:2, :3] # 2 satır, 3 sütun"
   ]
  },
  {
   "cell_type": "code",
   "execution_count": null,
   "metadata": {},
   "outputs": [],
   "source": [
    "print(x2[:3, ::2]) # ilk 3 satır, sonraki olacak şekilde sütunlar\n",
    "print(x2[::-1, ::-1])  # satırları ve sütunları ters çevir"
   ]
  },
  {
   "cell_type": "code",
   "execution_count": null,
   "metadata": {},
   "outputs": [],
   "source": [
    "print(x2[:, 0]) # ilk sütundaki tüm satırlar\n",
    "print(x2[0, :]) # ilk satırdaki tüm sütunlar"
   ]
  },
  {
   "cell_type": "markdown",
   "metadata": {},
   "source": [
    "## Dizilerin kopyalanması"
   ]
  },
  {
   "cell_type": "code",
   "execution_count": null,
   "metadata": {},
   "outputs": [],
   "source": [
    "x2_kopya = x2[:2, :2].copy() # x2deki ilk 2 satır, ilk 2 sütun"
   ]
  },
  {
   "cell_type": "code",
   "execution_count": null,
   "metadata": {},
   "outputs": [],
   "source": [
    "x2_kopya[0, 0] = 42 # x2 etkilenmez."
   ]
  },
  {
   "cell_type": "code",
   "execution_count": null,
   "metadata": {},
   "outputs": [],
   "source": [
    "x2"
   ]
  },
  {
   "cell_type": "code",
   "execution_count": null,
   "metadata": {},
   "outputs": [],
   "source": [
    "## Dizilerin yeniden şekillendirilmesi  "
   ]
  },
  {
   "cell_type": "code",
   "execution_count": null,
   "metadata": {},
   "outputs": [],
   "source": [
    "np.arange(1, 10).reshape((3, 3)) # 1-10 arasındaki değerleri 3e3 matris şeklinde kaydet"
   ]
  },
  {
   "cell_type": "code",
   "execution_count": null,
   "metadata": {},
   "outputs": [],
   "source": [
    "x = np.array([1, 2, 3])\n",
    "x.reshape((3, 1)) # x i 3 satır 1 sütun şeklinde"
   ]
  },
  {
   "cell_type": "markdown",
   "metadata": {},
   "source": [
    "## Dizilerde aritmetik işlemler"
   ]
  },
  {
   "cell_type": "code",
   "execution_count": null,
   "metadata": {},
   "outputs": [],
   "source": [
    "x = np.arange(4)\n",
    "print(\"x =\", x)\n",
    "print(\"x + 5 =\", x + 5)\n",
    "print(\"x - 5 =\", x - 5)\n",
    "print(\"x * 2 =\", x * 2)\n",
    "print(\"x / 2 =\", x / 2)\n",
    "print(\"x // 2 =\", x // 2) # kaç sefer var\n",
    "print(\"-x = \", -x)\n",
    "print(\"x ** 2 = \", x ** 2) # karesi\n",
    "print(\"x % 2 = \", x % 2) # mod bölümünden kalan"
   ]
  },
  {
   "cell_type": "code",
   "execution_count": null,
   "metadata": {},
   "outputs": [],
   "source": [
    "-(0.5*x + 1) ** 2"
   ]
  },
  {
   "cell_type": "code",
   "execution_count": null,
   "metadata": {},
   "outputs": [],
   "source": [
    "x = np.array([-2, -1, 0, 1, 2])\n",
    "abs(x) # mutlak değer"
   ]
  },
  {
   "cell_type": "code",
   "execution_count": null,
   "metadata": {},
   "outputs": [],
   "source": [
    "print(np.sum(x)) # dizideki elemanların toplamı\n",
    "print(np.min(x))\n",
    "print(np.max(x))\n",
    "print(np.std(x)) # standart sapma\n",
    "print(np.var(x)) # varyans\n",
    "print(np.argmin(x)) # minimum değerin indexi\n",
    "print(np.argmax(x))\n",
    "print(np.median(x))\n",
    "print(np.percentile(x,q=25))"
   ]
  },
  {
   "cell_type": "markdown",
   "metadata": {},
   "source": [
    "## Numpy Örnek Uygulama\n",
    "transactions.csv dosyasını alıp temel istatistik hesaplamalarını yapalım."
   ]
  },
  {
   "cell_type": "code",
   "execution_count": null,
   "metadata": {},
   "outputs": [],
   "source": [
    "import pandas as pd\n",
    "data = pd.read_csv(\"transactions.csv\")\n",
    "costs = np.array(data['Cost'])"
   ]
  },
  {
   "cell_type": "code",
   "execution_count": null,
   "metadata": {},
   "outputs": [],
   "source": [
    "data.head()"
   ]
  },
  {
   "cell_type": "code",
   "execution_count": null,
   "metadata": {},
   "outputs": [],
   "source": [
    "costs"
   ]
  },
  {
   "cell_type": "code",
   "execution_count": null,
   "metadata": {},
   "outputs": [],
   "source": [
    "print(\"ort. maliyet: \", costs.mean())\n",
    "print(\"standart sapma:\", costs.std())\n",
    "print(\"Minimum: \", costs.min())\n",
    "print(\"Maximum: \", costs.max())"
   ]
  },
  {
   "cell_type": "code",
   "execution_count": null,
   "metadata": {},
   "outputs": [],
   "source": [
    "print(\"1. kartil: \", np.percentile(costs, 25))\n",
    "print(\"Medyan: \", np.median(costs))\n",
    "print(\"3. kartil: \", np.percentile(costs, 75))"
   ]
  },
  {
   "cell_type": "code",
   "execution_count": null,
   "metadata": {},
   "outputs": [],
   "source": [
    "print(np.any(costs > 100)) # Maliyeti 100'den fazla olan var mı?\n",
    "print(np.any(costs < 0)) # 0'dan küçük olan var mı\n",
    "print(np.all(costs < 1000)) # hepsi 1000'den küçük mü\n",
    "print(np.sum((costs > 20) & (costs < 100))) # 20'den büyük 100'den küçük olanları topla"
   ]
  },
  {
   "cell_type": "markdown",
   "metadata": {},
   "source": [
    "## Maskeleme"
   ]
  },
  {
   "cell_type": "code",
   "execution_count": null,
   "metadata": {},
   "outputs": [],
   "source": [
    "x = np.array([[5, 0, 3, 3],\n",
    "[7, 9, 3, 5],\n",
    "[2, 4, 7, 6]])"
   ]
  },
  {
   "cell_type": "code",
   "execution_count": null,
   "metadata": {},
   "outputs": [],
   "source": [
    "x<5  # 5'ten küçük olanlara True yazar"
   ]
  },
  {
   "cell_type": "code",
   "execution_count": null,
   "metadata": {},
   "outputs": [],
   "source": [
    "x[x<5] # 5 ten küçük olanları getir"
   ]
  },
  {
   "cell_type": "markdown",
   "metadata": {},
   "source": [
    "## Sıralama"
   ]
  },
  {
   "cell_type": "code",
   "execution_count": null,
   "metadata": {},
   "outputs": [],
   "source": [
    "np.sort(x)"
   ]
  },
  {
   "cell_type": "code",
   "execution_count": null,
   "metadata": {},
   "outputs": [],
   "source": [
    "np.sort(x, axis=1) # sütuna göre sırala"
   ]
  }
 ],
 "metadata": {
  "kernelspec": {
   "display_name": "Python 3.7.4 64-bit ('base': conda)",
   "language": "python",
   "name": "python37464bitbaseconda7ed53fe53b85464eb341fdc51fc0e993"
  },
  "language_info": {
   "codemirror_mode": {
    "name": "ipython",
    "version": 3
   },
   "file_extension": ".py",
   "mimetype": "text/x-python",
   "name": "python",
   "nbconvert_exporter": "python",
   "pygments_lexer": "ipython3",
   "version": "3.7.6"
  }
 },
 "nbformat": 4,
 "nbformat_minor": 4
}
